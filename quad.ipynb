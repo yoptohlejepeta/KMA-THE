{
 "cells": [
  {
   "cell_type": "code",
   "execution_count": 8,
   "metadata": {},
   "outputs": [
    {
     "name": "stdout",
     "output_type": "stream",
     "text": [
      "Nash Equilibrium:\n",
      "Player A: [0.25 0.75]\n",
      "Player B: [0.33333333 0.66666667]\n"
     ]
    }
   ],
   "source": [
    "import numpy as np\n",
    "import nashpy as nash\n",
    "\n",
    "A = np.array([[4, -1], [0, 1]])\n",
    "B = np.array([[-4, -1], [1, 0]])\n",
    "\n",
    "game = nash.Game(A, B)\n",
    "\n",
    "equilibria = game.support_enumeration()\n",
    "\n",
    "for eq in equilibria:\n",
    "    print(\"Nash Equilibrium:\")\n",
    "    print(\"Player A:\", eq[0])\n",
    "    print(\"Player B:\", eq[1])\n"
   ]
  },
  {
   "cell_type": "code",
   "execution_count": 9,
   "metadata": {},
   "outputs": [
    {
     "name": "stdout",
     "output_type": "stream",
     "text": [
      "Nash Equilibrium:\n",
      "Player A: [0.5 0.5 0. ]\n",
      "Player B: [0.75 0.25 0.  ]\n",
      "Nash Equilibrium:\n",
      "Player A: [0.5 0.5 0. ]\n",
      "Player B: [0.5 0.  0.5]\n"
     ]
    },
    {
     "name": "stderr",
     "output_type": "stream",
     "text": [
      "/home/petka/THE/venv/lib/python3.10/site-packages/nashpy/algorithms/support_enumeration.py:259: RuntimeWarning: \n",
      "An even number of (2) equilibria was returned. This\n",
      "indicates that the game is degenerate. Consider using another algorithm\n",
      "to investigate.\n",
      "                  \n",
      "  warnings.warn(warning, RuntimeWarning)\n"
     ]
    }
   ],
   "source": [
    "A = np.array([[4,2,3], [3,5,4], [2,1,4]])\n",
    "\n",
    "game = nash.Game(A)\n",
    "\n",
    "equilibria = game.support_enumeration()\n",
    "\n",
    "for eq in equilibria:\n",
    "    print(\"Nash Equilibrium:\")\n",
    "    print(\"Player A:\", eq[0])\n",
    "    print(\"Player B:\", eq[1])"
   ]
  },
  {
   "cell_type": "code",
   "execution_count": 25,
   "metadata": {},
   "outputs": [
    {
     "name": "stdout",
     "output_type": "stream",
     "text": [
      "Nash Equilibrium:\n",
      "Player A: [0.1  0.65 0.25]\n",
      "Player B: [0.25       0.66666667 0.08333333]\n"
     ]
    }
   ],
   "source": [
    "import numpy as np\n",
    "import nashpy as nash\n",
    "\n",
    "A = np.array([[0, 1, -3], [1, 0, 2], [-1, 1, 0]])\n",
    "B = np.array([[0, -3, 1], [-2, 0, -1], [3, -1, 0]])\n",
    "\n",
    "game = nash.Game(A, B)\n",
    "\n",
    "equilibria = game.support_enumeration()\n",
    "\n",
    "for eq in equilibria:\n",
    "    print(\"Nash Equilibrium:\")\n",
    "    print(\"Player A:\", eq[0])\n",
    "    print(\"Player B:\", eq[1])\n",
    "\n",
    "# equilibria = game.vertex_enumeration()\n",
    "\n",
    "\n",
    "# for eq in equilibria:\n",
    "#     print(\"Nash Equilibrium:\")\n",
    "#     print(\"Player A:\", eq[0])\n",
    "#     print(\"Player B:\", eq[1])"
   ]
  },
  {
   "cell_type": "code",
   "execution_count": 1,
   "metadata": {},
   "outputs": [
    {
     "data": {
      "text/plain": [
       "(True, False)"
      ]
     },
     "execution_count": 1,
     "metadata": {},
     "output_type": "execute_result"
    }
   ],
   "source": [
    "import nashpy as nash\n",
    "\n",
    "import numpy as np\n",
    "\n",
    "A = np.array([[3, 0], [5, 1]])\n",
    "\n",
    "B = np.array([[3, 5], [0, 1]])\n",
    "\n",
    "prisoners_dilemma = nash.Game(A, B)\n",
    "\n",
    "# for eq in prisoners_dilemma.support_enumeration():\n",
    "#     print(eq)\n",
    "sigma_r = np.array([0, 1])\n",
    "\n",
    "sigma_c = np.array([1, 0])\n",
    "\n",
    "prisoners_dilemma.is_best_response(sigma_r, sigma_c)"
   ]
  },
  {
   "cell_type": "code",
   "execution_count": 6,
   "metadata": {},
   "outputs": [
    {
     "name": "stdout",
     "output_type": "stream",
     "text": [
      "Nash Equilibrium:\n",
      "Player A: [0.33333333 0.         0.66666667 0.        ]\n",
      "Player B: [0.33333333 0.66666667]\n",
      "Zisk hrace A:  1.3333333333333333\n",
      "Zisk hrace B:  -0.3333333333333333\n"
     ]
    }
   ],
   "source": [
    "A = np.array([[0,2], [0, -1], [2, 1], [1, -1]])\n",
    "\n",
    "B = np.array([[1, -1], [1, 2], [-1, 0], [0, 2]])\n",
    "\n",
    "game = nash.Game(A, B)\n",
    "\n",
    "equilibria = game.support_enumeration()\n",
    "\n",
    "for eq in equilibria:\n",
    "    print(\"Nash Equilibrium:\")\n",
    "    print(\"Player A:\", eq[0])\n",
    "    print(\"Player B:\", eq[1])\n",
    "    \n",
    "print(\"Zisk hrace A: \", eq[0].dot(A).dot(eq[1]))\n",
    "print(\"Zisk hrace B: \", eq[0].dot(B).dot(eq[1]))"
   ]
  }
 ],
 "metadata": {
  "kernelspec": {
   "display_name": "venv",
   "language": "python",
   "name": "python3"
  },
  "language_info": {
   "codemirror_mode": {
    "name": "ipython",
    "version": 3
   },
   "file_extension": ".py",
   "mimetype": "text/x-python",
   "name": "python",
   "nbconvert_exporter": "python",
   "pygments_lexer": "ipython3",
   "version": "3.10.12"
  }
 },
 "nbformat": 4,
 "nbformat_minor": 2
}
