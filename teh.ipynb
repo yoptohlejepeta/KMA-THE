{
 "cells": [
  {
   "cell_type": "markdown",
   "metadata": {},
   "source": [
    "# KMA/THE\n",
    "cvičení 28.2.2024"
   ]
  },
  {
   "cell_type": "markdown",
   "metadata": {},
   "source": [
    "## Úloha 1\n",
    "\n",
    "Výplatní matice\n",
    "$$\n",
    "    \\left(\n",
    "    \\begin{matrix}\n",
    "        1 & 0 & -1 \\\\\n",
    "        -1 & 1 & 2\n",
    "    \\end{matrix}\n",
    "    \\right)\n",
    "$$\n",
    "\n",
    "upravena na\n",
    "$$\n",
    "    \\left(\n",
    "    \\begin{matrix}\n",
    "        3 & 2 & 1 \\\\\n",
    "        1 & 3 & 4\n",
    "    \\end{matrix}\n",
    "    \\right)\n",
    "$$"
   ]
  },
  {
   "cell_type": "code",
   "execution_count": 2,
   "metadata": {},
   "outputs": [
    {
     "name": "stdout",
     "output_type": "stream",
     "text": [
      "q_1: 0.27272727\n",
      "q_2: 0.0\n",
      "q_3: 0.18181818\n",
      "Hodnota účelové funkce: 0.45454545\n",
      "Cena puvodni hry: 2.200000022\n",
      "y1: 0.6\n",
      "y2: 0.0\n",
      "y3: 0.39999999999999997\n"
     ]
    }
   ],
   "source": [
    "import pulp as pl\n",
    "\n",
    "prob = pl.LpProblem(\"Hrac2\", pl.LpMaximize)\n",
    "\n",
    "# variables\n",
    "q_1 = pl.LpVariable(\"q1\", lowBound=0)\n",
    "q_2 = pl.LpVariable(\"q2\", lowBound=0)\n",
    "q_3 = pl.LpVariable(\"q3\", lowBound=0)\n",
    "\n",
    "# ucelova funkce\n",
    "prob += q_1 + q_2 + q_3\n",
    "\n",
    "# omezujici podminky\n",
    "prob += 3*q_1 + 2*q_2 + 1*q_3 <= 1\n",
    "prob += 1*q_1 + 3*q_2 + 4*q_3 <= 1\n",
    "\n",
    "result = prob.solve(pl.PULP_CBC_CMD(msg=0))\n",
    "\n",
    "print(\"q_1:\", pl.value(q_1))\n",
    "print(\"q_2:\", pl.value(q_2))\n",
    "print(\"q_3:\", pl.value(q_3))\n",
    "\n",
    "print(\"Hodnota účelové funkce:\", pl.value(prob.objective))\n",
    "print(\"Cena puvodni hry:\", 1/pl.value(prob.objective))\n",
    "\n",
    "print(\"y1:\", pl.value(q_1)/pl.value(prob.objective))\n",
    "print(\"y2:\", pl.value(q_2)/pl.value(prob.objective))\n",
    "print(\"y3:\", pl.value(q_3)/pl.value(prob.objective))\n"
   ]
  },
  {
   "cell_type": "code",
   "execution_count": 3,
   "metadata": {},
   "outputs": [
    {
     "name": "stdout",
     "output_type": "stream",
     "text": [
      "p_1: 0.27272727\n",
      "p_2: 0.18181818\n",
      "Hodnota účelové funkce: 0.45454545\n",
      "Cena puvodni hry: 2.200000022\n",
      "x1: 0.6\n",
      "x2: 0.39999999999999997\n",
      "Dual variable for constraint _C1: 0.27272727\n",
      "Dual variable for constraint _C2: 0.0\n",
      "Dual variable for constraint _C3: 0.18181818\n"
     ]
    }
   ],
   "source": [
    "prob = pl.LpProblem(\"Hrac1\", pl.LpMinimize)\n",
    "\n",
    "# variables\n",
    "p_1 = pl.LpVariable(\"p1\", lowBound=0)\n",
    "p_2 = pl.LpVariable(\"p2\", lowBound=0)\n",
    "\n",
    "# ucelova funkce\n",
    "prob += p_1 + p_2\n",
    "\n",
    "# omezujici podminky\n",
    "prob += 3*p_1 + 1*p_2 >= 1\n",
    "prob += 2*p_1 + 3*p_2 >= 1\n",
    "prob += 1*p_1 + 4*p_2 >= 1\n",
    "\n",
    "result = prob.solve(pl.PULP_CBC_CMD(msg=0))\n",
    "\n",
    "print(\"p_1:\", pl.value(p_1))\n",
    "print(\"p_2:\", pl.value(p_2))\n",
    "\n",
    "print(\"Hodnota účelové funkce:\", pl.value(prob.objective))\n",
    "print(\"Cena puvodni hry:\", 1/pl.value(prob.objective))\n",
    "\n",
    "print(\"x1:\", pl.value(p_1)/pl.value(prob.objective))\n",
    "print(\"x2:\", pl.value(p_2)/pl.value(prob.objective))"
   ]
  },
  {
   "cell_type": "markdown",
   "metadata": {},
   "source": [
    "## Úloha 2\n",
    "\n",
    "$$\n",
    "    \\left(\n",
    "    \\begin{matrix}\n",
    "        4 & 2 & 3 \\\\\n",
    "        3 & 5 & 4 \\\\\n",
    "        2 & 1 & 4\n",
    "    \\end{matrix}\n",
    "    \\right)\n",
    "$$"
   ]
  },
  {
   "cell_type": "code",
   "execution_count": 29,
   "metadata": {},
   "outputs": [
    {
     "name": "stdout",
     "output_type": "stream",
     "text": [
      "q_1: 0.14285714\n",
      "q_2: 0.0\n",
      "q_3: 0.14285714\n",
      "Hodnota účelové funkce: 0.28571428\n",
      "Cena puvodni hry: 3.5000000700000014\n",
      "y1: 0.5\n",
      "y2: 0.0\n",
      "y3: 0.5\n"
     ]
    }
   ],
   "source": [
    "import pulp as pl\n",
    "\n",
    "prob = pl.LpProblem('Hrac2', pl.LpMaximize)\n",
    "\n",
    "q_1 = pl.LpVariable(\"q_1\", lowBound=0)\n",
    "q_2 = pl.LpVariable(\"q_2\", lowBound=0)\n",
    "q_3 = pl.LpVariable(\"q_3\", lowBound=0)\n",
    "\n",
    "# ucelova funkce\n",
    "prob += q_1 + q_2 + q_3\n",
    "\n",
    "# omezujici podminky\n",
    "prob += 4*q_1 + 2*q_2 + 3*q_3 <= 1\n",
    "prob += 3*q_1 + 5*q_2 + 4*q_3 <= 1\n",
    "prob += 2*q_1 + 1*q_2 + 4*q_3 <= 1\n",
    "\n",
    "result = prob.solve(pl.PULP_CBC_CMD(msg=0))\n",
    "\n",
    "print(\"q_1:\", pl.value(q_1))\n",
    "print(\"q_2:\", pl.value(q_2))\n",
    "print(\"q_3:\", pl.value(q_3))\n",
    "\n",
    "print(\"Hodnota účelové funkce:\", pl.value(prob.objective))\n",
    "print(\"Cena puvodni hry:\", 1/pl.value(prob.objective))\n",
    "\n",
    "print(\"y1:\", pl.value(q_1)/pl.value(prob.objective))\n",
    "print(\"y2:\", pl.value(q_2)/pl.value(prob.objective))\n",
    "print(\"y3:\", pl.value(q_3)/pl.value(prob.objective))\n"
   ]
  },
  {
   "cell_type": "code",
   "execution_count": 5,
   "metadata": {},
   "outputs": [
    {
     "name": "stdout",
     "output_type": "stream",
     "text": [
      "p_1: 0.14285714\n",
      "p_2: 0.14285714\n",
      "Hodnota účelové funkce: 0.28571428\n",
      "Cena puvodni hry: 3.5000000700000014\n",
      "x1: 0.5\n",
      "x2: 0.5\n"
     ]
    }
   ],
   "source": [
    "prob = pl.LpProblem(\"Hrac1\", pl.LpMinimize)\n",
    "\n",
    "# variables\n",
    "p_1 = pl.LpVariable(\"p1\", lowBound=0)\n",
    "p_2 = pl.LpVariable(\"p2\", lowBound=0)\n",
    "p_3 = pl.LpVariable(\"p3\", lowBound=0)\n",
    "\n",
    "# ucelova funkce\n",
    "prob += p_1 + p_2 + p_3\n",
    "\n",
    "# omezujici podminky\n",
    "prob += 4*p_1 + 3*p_2 + 2*p_3 >= 1\n",
    "prob += 2*p_1 + 5*p_2 + 1*p_3 >= 1\n",
    "prob += 3*p_1 + 4*p_2 + 4*p_3 >= 1\n",
    "\n",
    "result = prob.solve(pl.PULP_CBC_CMD(msg=0))\n",
    "\n",
    "print(\"p_1:\", pl.value(p_1))\n",
    "print(\"p_2:\", pl.value(p_2))\n",
    "\n",
    "print(\"Hodnota účelové funkce:\", pl.value(prob.objective))\n",
    "print(\"Cena puvodni hry:\", 1/pl.value(prob.objective))\n",
    "\n",
    "print(\"x1:\", pl.value(p_1)/pl.value(prob.objective))\n",
    "print(\"x2:\", pl.value(p_2)/pl.value(prob.objective))"
   ]
  },
  {
   "cell_type": "markdown",
   "metadata": {},
   "source": [
    "## Úloha 3\n",
    "### Kámen, nůžky, papír\n",
    "\n",
    "$$\n",
    "    \\left(\n",
    "    \\begin{matrix}\n",
    "        0 & 1 & -1 \\\\\n",
    "        -1 & 0 & 1 \\\\\n",
    "        1 & -1 & 0\n",
    "    \\end{matrix}\n",
    "    \\right)\n",
    "$$"
   ]
  },
  {
   "cell_type": "code",
   "execution_count": 6,
   "metadata": {},
   "outputs": [
    {
     "name": "stdout",
     "output_type": "stream",
     "text": [
      "q_1: 0.16666667\n",
      "q_2: 0.16666667\n",
      "q_3: 0.16666667\n",
      "Hodnota účelové funkce: 0.5000000099999999\n",
      "Cena puvodni hry: 1.9999999600000011\n",
      "y1: 0.33333333333333337\n",
      "y2: 0.33333333333333337\n",
      "y3: 0.33333333333333337\n"
     ]
    }
   ],
   "source": [
    "import pulp as pl\n",
    "\n",
    "prob = pl.LpProblem(\"Hrac2\", pl.LpMaximize)\n",
    "\n",
    "# variables\n",
    "q_1 = pl.LpVariable(\"q1\", lowBound=0)\n",
    "q_2 = pl.LpVariable(\"q2\", lowBound=0)\n",
    "q_3 = pl.LpVariable(\"q3\", lowBound=0)\n",
    "\n",
    "# ucelova funkce\n",
    "prob += q_1 + q_2 + q_3\n",
    "\n",
    "# omezujici podminky\n",
    "prob += 2*q_1 + 3*q_2 + 1*q_3 <= 1\n",
    "prob += 1*q_1 + 2*q_2 + 3*q_3 <= 1\n",
    "prob += 3*q_1 + 1*q_2 + 2*q_3 <= 1\n",
    "\n",
    "result = prob.solve(pl.PULP_CBC_CMD(msg=0))\n",
    "\n",
    "print(\"q_1:\", pl.value(q_1))\n",
    "print(\"q_2:\", pl.value(q_2))\n",
    "print(\"q_3:\", pl.value(q_3))\n",
    "\n",
    "print(\"Hodnota účelové funkce:\", pl.value(prob.objective))\n",
    "print(\"Cena puvodni hry:\", 1/pl.value(prob.objective))\n",
    "\n",
    "print(\"y1:\", pl.value(q_1)/pl.value(prob.objective))\n",
    "print(\"y2:\", pl.value(q_2)/pl.value(prob.objective))\n",
    "print(\"y3:\", pl.value(q_3)/pl.value(prob.objective))"
   ]
  },
  {
   "cell_type": "code",
   "execution_count": 8,
   "metadata": {},
   "outputs": [
    {
     "name": "stdout",
     "output_type": "stream",
     "text": [
      "p_1: 0.16666667\n",
      "p_2: 0.16666667\n",
      "p_3: 0.16666667\n",
      "Hodnota účelové funkce: 0.5000000099999999\n",
      "Cena puvodni hry: 1.9999999600000011\n",
      "x1: 0.33333333333333337\n",
      "x2: 0.33333333333333337\n",
      "x3: 0.33333333333333337\n",
      "Dual variable for constraint _C1: 0.16666667\n",
      "Dual variable for constraint _C2: 0.16666667\n",
      "Dual variable for constraint _C3: 0.16666667\n"
     ]
    }
   ],
   "source": [
    "prob = pl.LpProblem(\"Hrac1\", pl.LpMinimize)\n",
    "\n",
    "# variables\n",
    "p_1 = pl.LpVariable(\"p1\", lowBound=0)\n",
    "p_2 = pl.LpVariable(\"p2\", lowBound=0)\n",
    "p_3 = pl.LpVariable(\"p3\", lowBound=0)\n",
    "\n",
    "# ucelova funkce\n",
    "prob += p_1 + p_2 + p_3\n",
    "\n",
    "# omezujici podminky\n",
    "prob += 2*p_1 + 1*p_2 + 3*p_3 >= 1\n",
    "prob += 3*p_1 + 2*p_2 + 1*p_3 >= 1\n",
    "prob += 1*p_1 + 3*p_2 + 2*p_3 >= 1\n",
    "\n",
    "result = prob.solve(pl.PULP_CBC_CMD(msg=0))\n",
    "\n",
    "print(\"p_1:\", pl.value(p_1))\n",
    "print(\"p_2:\", pl.value(p_2))\n",
    "print(\"p_3:\", pl.value(p_3))\n",
    "\n",
    "print(\"Hodnota účelové funkce:\", pl.value(prob.objective))\n",
    "print(\"Cena puvodni hry:\", 1/pl.value(prob.objective))\n",
    "\n",
    "print(\"x1:\", pl.value(p_1)/pl.value(prob.objective))\n",
    "print(\"x2:\", pl.value(p_2)/pl.value(prob.objective))\n",
    "print(\"x3:\", pl.value(p_3)/pl.value(prob.objective))"
   ]
  }
 ],
 "metadata": {
  "kernelspec": {
   "display_name": "venv",
   "language": "python",
   "name": "python3"
  },
  "language_info": {
   "codemirror_mode": {
    "name": "ipython",
    "version": 3
   },
   "file_extension": ".py",
   "mimetype": "text/x-python",
   "name": "python",
   "nbconvert_exporter": "python",
   "pygments_lexer": "ipython3",
   "version": "3.10.12"
  },
  "orig_nbformat": 4
 },
 "nbformat": 4,
 "nbformat_minor": 2
}
